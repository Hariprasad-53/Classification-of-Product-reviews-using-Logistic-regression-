{
 "cells": [
  {
   "cell_type": "markdown",
   "metadata": {},
   "source": [
    "## Sentiment Analysis Using Logistic Regression"
   ]
  },
  {
   "cell_type": "markdown",
   "metadata": {},
   "source": [
    "<font color=\"blue\"> **Setting up the standard libraries** </font>"
   ]
  },
  {
   "cell_type": "code",
   "execution_count": 1,
   "metadata": {},
   "outputs": [],
   "source": [
    "%matplotlib inline\n",
    "import string\n",
    "import numpy as np\n",
    "from sklearn.feature_extraction.text import CountVectorizer\n",
    "from sklearn.linear_model import SGDClassifier\n",
    "import matplotlib\n",
    "import matplotlib.pyplot as plt\n",
    "matplotlib.rc('xtick',labelsize = 15)\n",
    "matplotlib.rc('ytick', labelsize = 15)"
   ]
  },
  {
   "cell_type": "markdown",
   "metadata": {},
   "source": [
    "<font color=\"blue\"> **Loading the dataset** </font> "
   ]
  },
  {
   "cell_type": "markdown",
   "metadata": {},
   "source": [
    "The dataset loaded into this project was a part of the following website - https://archive.ics.uci.edu/ml/datasets/Sentiment+Labelled+Sentences\n",
    "\n",
    "The dataset consists of 3000 sentences which are reviews of products, movies and restaurants. These were collected from three websites namely:\n",
    "1) imbd.com\n",
    "\n",
    "2) amazon.com\n",
    "\n",
    "3) yelp.com\n",
    "\n",
    "For each website, 1000 reviews were collected with equal number of positive and negative reviews. "
   ]
  },
  {
   "cell_type": "code",
   "execution_count": 2,
   "metadata": {},
   "outputs": [],
   "source": [
    "# Reading the data\n",
    "with open(\"sentiment_labelled_sentences/full_set.txt\") as S:\n",
    "    readtxt = S.readlines()\n",
    "\n",
    "# Removing the trailing and leading whitespaces inside the data\n",
    "readtxt = [i.strip() for i in readtxt]\n",
    "\n",
    "# From this data, separating the sentences from the labels\n",
    "reviews = [i.split('\\t')[0] for i in readtxt]\n",
    "labels = [i.split('\\t')[1] for i in readtxt]\n",
    "\n",
    "# Converting the list of labels into an array, for future use\n",
    "y = np.array(labels,dtype = 'int8')"
   ]
  },
  {
   "cell_type": "markdown",
   "metadata": {},
   "source": [
    "<font color=\"blue\"> **Removing the punctuation and numbers from the reviews** </font>"
   ]
  },
  {
   "cell_type": "code",
   "execution_count": 3,
   "metadata": {},
   "outputs": [],
   "source": [
    "def remove_unw(x,word_list):\n",
    "    '''\n",
    "    This is a function that removes unwanted \n",
    "    words or characters from a list \n",
    "    '''\n",
    "    for elem in word_list:\n",
    "        \n",
    "        # Replacing the unwanted word/character with a space\n",
    "        x = x.replace(elem, ' ')\n",
    "    return x"
   ]
  },
  {
   "cell_type": "code",
   "execution_count": 4,
   "metadata": {},
   "outputs": [],
   "source": [
    "# Defining a list of numbers from zero to 9,\n",
    "# which will be used as a word_list to remove the numbers from the reviews\n",
    "digits = [str(elem) for elem in range(10)]"
   ]
  },
  {
   "cell_type": "code",
   "execution_count": 5,
   "metadata": {},
   "outputs": [],
   "source": [
    "# Now removing the numbers from the reviews\n",
    "refined_revws = [remove_unw(elem, digits) for elem in reviews]"
   ]
  },
  {
   "cell_type": "code",
   "execution_count": 6,
   "metadata": {},
   "outputs": [],
   "source": [
    "# Now removing the punctuations\n",
    "final_revws = [remove_unw(elem, list(string.punctuation)) for elem in refined_revws]"
   ]
  },
  {
   "cell_type": "code",
   "execution_count": 7,
   "metadata": {},
   "outputs": [],
   "source": [
    "# Finally converting all the reviews into lower case\n",
    "revws = [elem.lower() for elem in final_revws]"
   ]
  },
  {
   "cell_type": "markdown",
   "metadata": {},
   "source": [
    "<font color=\"blue\"> **Removing all the stop words** </font>\n",
    "\n",
    "The stop word list was obtained from the website: \n",
    "\n",
    "https://www.ranks.nl/stopwords"
   ]
  },
  {
   "cell_type": "code",
   "execution_count": 8,
   "metadata": {},
   "outputs": [],
   "source": [
    "# A list of stop words\n",
    "stop_words = set([\"a\",\"about\",\"above\",\"after\",\"again\",\"against\",\"all\",\"am\",\"an\",\"and\",\"any\",\"are\",\"aren't\",\"as\",\"at\",\"be\",\"because\",\"been\",\"before\",\"being\",\"below\",\"between\",\"both\",\"but\",\"by\",\"can't\",\"cannot\",\"could\",\"couldn't\",\"did\",\"didn't\",\"do\",\"does\",\"doesn't\",\"doing\",\"don't\",\"down\",\"during\",\"each\",\"few\",\"for\",\"from\",\"further\",\"had\",\"hadn't\",\"has\",\"hasn't\",\"have\",\"haven't\",\"having\",\"he\",\"he'd\",\"he'll\",\"he's\",\"her\",\"here\",\"here's\",\"hers\",\"herself\",\"him\",\"himself\",\"his\",\"how\",\"how's\",\"i\",\"i'd\",\"i'll\",\"i'm\",\"i've\",\"i\",\"in\",\"into\",\"is\",\"isn't\",\"it\",\"it's\",\"its\",\"itself\",\"let's\",\"me\",\"more\",\"most\",\"mustn't\",\"my\",\"myself\",\"no\",\"nor\",\"not\",\"of\",\"off\",\"on\",\"once\",\"only\",\"or\",\"other\",\"ough\",\"our\",\"ours\",\"ourselves\",\"out\",\"over\",\"own\",\"same\",\"shan't\",\"she\",\"she'd\",\"she'll\",\"she's\",\"should\",\"shouldn't\",\"so\",\"some\",\"such\",\"than\",\"that\",\"that's\",\"the\",\"their\",\"theirs\",\"them\",\"themselves\",\"then\",\"there\",\"there's\",\"these\",\"they\",\"they'd\",\"they'll\",\"they're\",\"they've\",\"this\",\"those\",\"through\",\"to\",\"too\",\"under\",\"until\",\"up\",\"very\",\"was\",\"wasn't\",\"we\",\"we'd\",\"we'll\",\"we're\",\"we've\",\"were\",\"weren't\",\"what\",\"what's\",\"when\",\"when's\",\"where\",\"where's\",\"which\",\"while\",\"who\",\"who's\",\"whom\",\"why\",\"why's\",\"with\",\"won't\",\"would\",\"wouldn't\",\"you\",\"you'd\",\"you'll\",\"you're\",\"you've\",\"your\",\"yours\",\"yourself\",\"yourselves\"])"
   ]
  },
  {
   "cell_type": "code",
   "execution_count": 9,
   "metadata": {},
   "outputs": [],
   "source": [
    "# Making each review into a sublist \n",
    "# each sublist consists of words used in the respective review\n",
    "# this will be used for removing the stop words \n",
    "revw_list = [elem.split() for elem in revws]\n",
    "\n",
    "\n",
    "# Now removing the stopwords and joining back the words\n",
    "# that were split above, into coherent reviews\n",
    "processed_revws = [' '.join(list(filter(lambda i: i not in stop_words, elem))) for elem in revw_list]"
   ]
  },
  {
   "cell_type": "markdown",
   "metadata": {},
   "source": [
    "<font color=\"blue\"> **Converting the reviews into a vector using the Bag of words representation** </font>"
   ]
  },
  {
   "cell_type": "code",
   "execution_count": 10,
   "metadata": {},
   "outputs": [],
   "source": [
    "# Capping the vocabulary to 3000 words\n",
    "vector = CountVectorizer(analyzer='word', tokenizer=None, preprocessor=None, stop_words = None, max_features = 3000)\n",
    "\n",
    "data_features = vector.fit_transform(processed_revws)\n",
    "\n",
    "# Converting the above variable into an array\n",
    "features_arr = data_features.toarray()"
   ]
  },
  {
   "cell_type": "markdown",
   "metadata": {},
   "source": [
    "<font color=\"blue\"> Splitting the 3000 words into a training set of 2500 sentences and a test set of 500 sentences (in which the positive and negative sentences are equal in number) </font>"
   ]
  },
  {
   "cell_type": "code",
   "execution_count": 11,
   "metadata": {},
   "outputs": [],
   "source": [
    "np.random.seed(0)\n",
    "\n",
    "# Creating an array of test indices\n",
    "# which is a random set of 250 sentences each for the label 0 and 1\n",
    "testing_ind = np.append(np.random.choice(np.where(y==0)[0],250,replace = False), np.random.choice(np.where(y==1)[0],250,replace = False))\n",
    "\n",
    "# Training label indices\n",
    "training_ind = list(set(range(len(labels)))-set(testing_ind))\n",
    "\n",
    "# Now assigning the data for testing and training\n",
    "testing_data = features_arr[testing_ind]\n",
    "testing_labels = y[testing_ind]\n",
    "\n",
    "training_data = features_arr[training_ind]\n",
    "training_labels = y[training_ind]"
   ]
  },
  {
   "cell_type": "code",
   "execution_count": 12,
   "metadata": {},
   "outputs": [
    {
     "name": "stdout",
     "output_type": "stream",
     "text": [
      "The size of the training set is:(2500, 3000) \n",
      "\n",
      "The size of the testing set is:(500, 3000) \n",
      "\n"
     ]
    }
   ],
   "source": [
    "print(f'The size of the training set is:{training_data.shape} \\n')\n",
    "print(f'The size of the testing set is:{testing_data.shape} \\n')"
   ]
  },
  {
   "cell_type": "markdown",
   "metadata": {},
   "source": [
    "<font color=\"blue\"> **Fitting a logistic regression model by using sklearn's SGDClassifier** </font>"
   ]
  },
  {
   "cell_type": "code",
   "execution_count": 13,
   "metadata": {},
   "outputs": [],
   "source": [
    "classifier = SGDClassifier(loss = 'log', penalty = 'none')\n",
    "classifier.fit(training_data,training_labels)\n",
    "\n",
    "# Getting the parameters w and b\n",
    "w = classifier.coef_[0,:]\n",
    "b = classifier.intercept_"
   ]
  },
  {
   "cell_type": "code",
   "execution_count": 14,
   "metadata": {},
   "outputs": [],
   "source": [
    "# Now using this classifier, perform predictions\n",
    "# on both the training data and the test data\n",
    "\n",
    "training_pred = classifier.predict(training_data)\n",
    "testing_pred = classifier.predict(testing_data)"
   ]
  },
  {
   "cell_type": "code",
   "execution_count": 15,
   "metadata": {},
   "outputs": [],
   "source": [
    "# Computing the errors\n",
    "\n",
    "# Training error\n",
    "train_error = np.sum((training_pred>0)!= (training_labels>0))\n",
    "\n",
    "# Testing error\n",
    "test_error = np.sum((testing_pred>0)!= (testing_labels>0))"
   ]
  },
  {
   "cell_type": "code",
   "execution_count": 16,
   "metadata": {},
   "outputs": [
    {
     "name": "stdout",
     "output_type": "stream",
     "text": [
      "The training error is:0.012 \n",
      "\n",
      "The training error is:0.2 \n",
      "\n"
     ]
    }
   ],
   "source": [
    "print(f'The training error is:{float(train_error)/len(training_labels)} \\n')\n",
    "\n",
    "print(f'The training error is:{float(test_error)/len(testing_labels)} \\n')\n"
   ]
  },
  {
   "cell_type": "markdown",
   "metadata": {},
   "source": [
    "<font color=\"blue\"> **Finding those words with largest +ve and -ve influence in the whole product review data** </font>"
   ]
  },
  {
   "cell_type": "code",
   "execution_count": 17,
   "metadata": {
    "scrolled": true
   },
   "outputs": [
    {
     "name": "stdout",
     "output_type": "stream",
     "text": [
      "The words with the most +ve influence are:\n",
      " ['data', 'incredible', 'pleased', 'clear', 'assure', 'silent', 'joy', 'quick', 'world', 'love', 'delicious', 'sturdy', 'works', 'nice', 'occasionally', 'awesome', 'brings', 'art', 'perfect', 'beautiful', 'loved', 'enjoyed', 'liked'] \n",
      "\n",
      "The words with the most -ve influence are:\n",
      " ['beep', 'pm', 'poor', 'sucks', 'avoid', 'worst', 'mediocre', 'aren', 'fly', 'unfortunately', 'slow', 'stupid', 'bland', 'lacks', 'worse', 'waste', 'produce', 'ok', 'literally', 'guess', 'torture', 'fat', 'disappointing', 'mess', 'failed'] \n",
      "\n"
     ]
    }
   ],
   "source": [
    "# Forming the array containing the vocabulary \n",
    "vocabulary = np.array([z[0] for z in sorted(vector.vocabulary_.items(),key = None)])\n",
    "\n",
    "# Sorting the array w in an ascending order \n",
    "# and hence returns the indices of the respective elements\n",
    "indices = np.argsort(w)\n",
    "\n",
    "# Extracting the top 25 -ve indices\n",
    "negative_ind = indices[0:25]\n",
    "# Extracting the top 25 -ve indices\n",
    "positive_ind = indices[-24:-1]\n",
    "\n",
    "# now displaying the most +ve words and -ve words\n",
    "print(f'The words with the most +ve influence are:\\n {[str(elem) for elem in list(vocabulary[positive_ind])]} \\n')\n",
    "\n",
    "print(f'The words with the most -ve influence are:\\n {[str(elem) for elem in list(vocabulary[negative_ind])]} \\n')"
   ]
  },
  {
   "cell_type": "markdown",
   "metadata": {},
   "source": [
    "<font color = 'blue'> **Margin Analysis** </font>"
   ]
  },
  {
   "cell_type": "code",
   "execution_count": 18,
   "metadata": {},
   "outputs": [],
   "source": [
    "# Defining a function that returns the number of points in the data\n",
    "# which lie in the interval [0 to 0.5-gamma] or [0.5+gamma to 1]\n",
    "\n",
    "# where gamma is the margin which is the perpendicular distance \n",
    "# from the decision boundary to boundaries that lie parallel to the decision boundary\n",
    "\n",
    "def margin_counts(classif,test_data,gamma):\n",
    "    \n",
    "    # Find the probability on each test point\n",
    "    predict = classif.predict_proba(test_data)[:,1]\n",
    "    \n",
    "    # Now find those points for which the prediction is at least gamma away from 0.5\n",
    "    margin_ind = np.where((predict>(0.5+gamma))| (predict<(0.5-gamma)))[0]\n",
    "    \n",
    "    return float(len(margin_ind))"
   ]
  },
  {
   "cell_type": "code",
   "execution_count": 19,
   "metadata": {},
   "outputs": [
    {
     "data": {
      "image/png": "[encoded data removed]",
      "text/plain": [
       "<Figure size 432x288 with 1 Axes>"
      ]
     },
     "metadata": {
      "needs_background": "light"
     },
     "output_type": "display_data"
    }
   ],
   "source": [
    "gamma = np.arange(0,0.5,0.01)\n",
    "h = np.vectorize(lambda elem:margin_counts(classifier,testing_data,elem))\n",
    "plt.plot(gamma,h(gamma)/500.0, linewidth=3, color = 'blue')\n",
    "plt.xlabel('Margin',fontsize = 15)\n",
    "plt.ylabel('Fraction of points above the margin', fontsize = 15)\n",
    "plt.show()"
   ]
  },
  {
   "cell_type": "code",
   "execution_count": 20,
   "metadata": {},
   "outputs": [],
   "source": [
    "# now defining a function that returns the error of predictions\n",
    "\n",
    "def err_margin(classif,test_data,tst_label,gamma):\n",
    "    \n",
    "    # Find the probability on each test point\n",
    "    predict = classif.predict_proba(test_data)[:,1]\n",
    "    \n",
    "    # Now find those points for which the prediction is at least gamma away from 0.5\n",
    "    margin_ind = np.where((predict>(0.5+gamma))| (predict<(0.5-gamma)))[0]\n",
    "    \n",
    "    # Find the error for these data points\n",
    "    err = np.sum((predict[margin_ind]>0.5)!=(tst_label[margin_ind]>0.0))\n",
    "    \n",
    "    return float(err)/len(margin_ind)"
   ]
  },
  {
   "cell_type": "code",
   "execution_count": 21,
   "metadata": {},
   "outputs": [
    {
     "data": {
      "image/png": "[encoded data removed]",
      "text/plain": [
       "<Figure size 432x288 with 1 Axes>"
      ]
     },
     "metadata": {
      "needs_background": "light"
     },
     "output_type": "display_data"
    }
   ],
   "source": [
    "# computing the margin errors on the test data \n",
    "h = np.vectorize(lambda elem: err_margin(classifier, testing_data, testing_labels,elem))\n",
    "\n",
    "plt.plot(gamma,h(gamma), linewidth = 3)\n",
    "plt.ylabel('Rate of error',fontsize = 15)\n",
    "plt.xlabel('Margin', fontsize = 15)\n",
    "plt.show()"
   ]
  }
 ],
 "metadata": {
  "kernelspec": {
   "display_name": "Python 3",
   "language": "python",
   "name": "python3"
  },
  "language_info": {
   "codemirror_mode": {
    "name": "ipython",
    "version": 3
   },
   "file_extension": ".py",
   "mimetype": "text/x-python",
   "name": "python",
   "nbconvert_exporter": "python",
   "pygments_lexer": "ipython3",
   "version": "3.8.5"
  }
 },
 "nbformat": 4,
 "nbformat_minor": 4
}
